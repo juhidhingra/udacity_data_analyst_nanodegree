{
 "cells": [
  {
   "cell_type": "markdown",
   "metadata": {
    "collapsed": true
   },
   "source": [
    "# Simpson's Paradox\n",
    "Use `admission_data.csv` for this exercise."
   ]
  },
  {
   "cell_type": "code",
   "execution_count": 93,
   "metadata": {},
   "outputs": [
    {
     "data": {
      "text/html": [
       "<div>\n",
       "<style scoped>\n",
       "    .dataframe tbody tr th:only-of-type {\n",
       "        vertical-align: middle;\n",
       "    }\n",
       "\n",
       "    .dataframe tbody tr th {\n",
       "        vertical-align: top;\n",
       "    }\n",
       "\n",
       "    .dataframe thead th {\n",
       "        text-align: right;\n",
       "    }\n",
       "</style>\n",
       "<table border=\"1\" class=\"dataframe\">\n",
       "  <thead>\n",
       "    <tr style=\"text-align: right;\">\n",
       "      <th></th>\n",
       "      <th>Unnamed: 0</th>\n",
       "      <th>student_id</th>\n",
       "      <th>gender</th>\n",
       "      <th>major</th>\n",
       "      <th>admitted</th>\n",
       "    </tr>\n",
       "  </thead>\n",
       "  <tbody>\n",
       "    <tr>\n",
       "      <th>0</th>\n",
       "      <td>0</td>\n",
       "      <td>35377</td>\n",
       "      <td>female</td>\n",
       "      <td>Chemistry</td>\n",
       "      <td>False</td>\n",
       "    </tr>\n",
       "    <tr>\n",
       "      <th>1</th>\n",
       "      <td>1</td>\n",
       "      <td>56105</td>\n",
       "      <td>male</td>\n",
       "      <td>Physics</td>\n",
       "      <td>True</td>\n",
       "    </tr>\n",
       "    <tr>\n",
       "      <th>2</th>\n",
       "      <td>2</td>\n",
       "      <td>31441</td>\n",
       "      <td>female</td>\n",
       "      <td>Chemistry</td>\n",
       "      <td>False</td>\n",
       "    </tr>\n",
       "    <tr>\n",
       "      <th>3</th>\n",
       "      <td>3</td>\n",
       "      <td>51765</td>\n",
       "      <td>male</td>\n",
       "      <td>Physics</td>\n",
       "      <td>True</td>\n",
       "    </tr>\n",
       "    <tr>\n",
       "      <th>4</th>\n",
       "      <td>4</td>\n",
       "      <td>53714</td>\n",
       "      <td>female</td>\n",
       "      <td>Physics</td>\n",
       "      <td>True</td>\n",
       "    </tr>\n",
       "  </tbody>\n",
       "</table>\n",
       "</div>"
      ],
      "text/plain": [
       "   Unnamed: 0  student_id  gender      major  admitted\n",
       "0           0       35377  female  Chemistry     False\n",
       "1           1       56105    male    Physics      True\n",
       "2           2       31441  female  Chemistry     False\n",
       "3           3       51765    male    Physics      True\n",
       "4           4       53714  female    Physics      True"
      ]
     },
     "execution_count": 93,
     "metadata": {},
     "output_type": "execute_result"
    }
   ],
   "source": [
    "# Load and view first few lines of dataset\n",
    "import pandas as pd\n",
    "\n",
    "admission = pd.read_csv(\"admission_data.csv\")\n",
    "admission.head()"
   ]
  },
  {
   "cell_type": "markdown",
   "metadata": {},
   "source": [
    "### Proportion and admission rate for each gender"
   ]
  },
  {
   "cell_type": "code",
   "execution_count": 94,
   "metadata": {},
   "outputs": [
    {
     "data": {
      "text/plain": [
       "(500, 5)"
      ]
     },
     "execution_count": 94,
     "metadata": {},
     "output_type": "execute_result"
    }
   ],
   "source": [
    "admission.shape"
   ]
  },
  {
   "cell_type": "code",
   "execution_count": 95,
   "metadata": {},
   "outputs": [
    {
     "data": {
      "text/plain": [
       "0.514"
      ]
     },
     "execution_count": 95,
     "metadata": {},
     "output_type": "execute_result"
    }
   ],
   "source": [
    "# Proportion of students that are male\n",
    "\n",
    "len(admission[admission[\"gender\"] == \"female\"])/admission.shape[0]"
   ]
  },
  {
   "cell_type": "code",
   "execution_count": 96,
   "metadata": {},
   "outputs": [
    {
     "data": {
      "text/plain": [
       "0.486"
      ]
     },
     "execution_count": 96,
     "metadata": {},
     "output_type": "execute_result"
    }
   ],
   "source": [
    "# Proportion of students that are female\n",
    "\n",
    "len(admission[admission[\"gender\"] == \"male\"])/admission.shape[0]"
   ]
  },
  {
   "cell_type": "code",
   "execution_count": 97,
   "metadata": {},
   "outputs": [
    {
     "data": {
      "text/plain": [
       "0.28793774319066145"
      ]
     },
     "execution_count": 97,
     "metadata": {},
     "output_type": "execute_result"
    }
   ],
   "source": [
    "# Admission rate for females\n",
    "\n",
    "len(admission[(admission['gender']=='female') & (admission['admitted'])])/(len(admission[admission['gender']=='female']))\n",
    "\n"
   ]
  },
  {
   "cell_type": "code",
   "execution_count": 98,
   "metadata": {},
   "outputs": [
    {
     "data": {
      "text/plain": [
       "0.48559670781893005"
      ]
     },
     "execution_count": 98,
     "metadata": {},
     "output_type": "execute_result"
    }
   ],
   "source": [
    "# Admission rate for males\n",
    "\n",
    "len(admission[(admission[\"gender\"] == \"male\") & (admission[\"admitted\"])])/(len(admission[admission[\"gender\"]=='male']))\n"
   ]
  },
  {
   "cell_type": "markdown",
   "metadata": {},
   "source": [
    "### Proportion and admission rate for physics majors of each gender"
   ]
  },
  {
   "cell_type": "code",
   "execution_count": 99,
   "metadata": {},
   "outputs": [
    {
     "data": {
      "text/plain": [
       "0.12062256809338522"
      ]
     },
     "execution_count": 99,
     "metadata": {},
     "output_type": "execute_result"
    }
   ],
   "source": [
    "# What proportion of female students are majoring in physics?\n",
    "\n",
    "female_with_physics = admission[(admission[\"gender\"] == \"female\") & (admission[\"major\"]==\"Physics\")]\n",
    "\n",
    "len(female_with_physics)/len(admission[admission[\"gender\"]=='female'])"
   ]
  },
  {
   "cell_type": "code",
   "execution_count": 100,
   "metadata": {},
   "outputs": [
    {
     "name": "stdout",
     "output_type": "stream",
     "text": [
      "Unnamed: 0    0.120623\n",
      "student_id    0.120623\n",
      "gender        0.120623\n",
      "major         0.120623\n",
      "admitted      0.120623\n",
      "dtype: float64\n"
     ]
    }
   ],
   "source": [
    "# you can do the above more effeciently using query \n",
    "\n",
    "fem_phys_rate = admission.query(\"gender == 'female' & major == 'Physics'\").count()/ \\\n",
    "    (admission.query(\"gender == 'female'\").count())\n",
    "\n",
    "print (fem_phys_rate)\n"
   ]
  },
  {
   "cell_type": "code",
   "execution_count": 101,
   "metadata": {},
   "outputs": [
    {
     "name": "stdout",
     "output_type": "stream",
     "text": [
      "Unnamed: 0    0.925926\n",
      "student_id    0.925926\n",
      "gender        0.925926\n",
      "major         0.925926\n",
      "admitted      0.925926\n",
      "dtype: float64\n"
     ]
    }
   ],
   "source": [
    "# What proportion of male students are majoring in physics?\n",
    "\n",
    "male_phys_rate = admission.query(\"gender == 'male' & major == 'Physics'\").count()/ \\\n",
    "    (admission.query(\"gender == 'male'\").count())\n",
    "\n",
    "print (male_phys_rate)"
   ]
  },
  {
   "cell_type": "code",
   "execution_count": 102,
   "metadata": {},
   "outputs": [
    {
     "data": {
      "text/plain": [
       "0.7419354838709677"
      ]
     },
     "execution_count": 102,
     "metadata": {},
     "output_type": "execute_result"
    }
   ],
   "source": [
    "# Admission rate for female physics majors\n",
    "\n",
    "len(admission[(admission[\"gender\"] == \"female\") & (admission[\"major\"]==\"Physics\") & admission[\"admitted\"]]) / len(admission[(admission[\"gender\"] == \"female\") & (admission[\"major\"]==\"Physics\")])\n",
    "                                                                                                                                                                                                                          \n",
    "    "
   ]
  },
  {
   "cell_type": "code",
   "execution_count": 103,
   "metadata": {},
   "outputs": [
    {
     "data": {
      "text/plain": [
       "0.5155555555555555"
      ]
     },
     "execution_count": 103,
     "metadata": {},
     "output_type": "execute_result"
    }
   ],
   "source": [
    "# Admission rate for male physics majors\n",
    "\n",
    "len(admission[(admission[\"gender\"] == \"male\") & (admission[\"major\"]==\"Physics\") & admission[\"admitted\"]]) / len(admission[(admission[\"gender\"] == \"male\") & (admission[\"major\"]==\"Physics\")])\n"
   ]
  },
  {
   "cell_type": "markdown",
   "metadata": {},
   "source": [
    "### Proportion and admission rate for chemistry majors of each gender"
   ]
  },
  {
   "cell_type": "code",
   "execution_count": 104,
   "metadata": {},
   "outputs": [
    {
     "name": "stdout",
     "output_type": "stream",
     "text": [
      "Unnamed: 0    0.879377\n",
      "student_id    0.879377\n",
      "gender        0.879377\n",
      "major         0.879377\n",
      "admitted      0.879377\n",
      "dtype: float64\n"
     ]
    }
   ],
   "source": [
    "# What proportion of female students are majoring in chemistry?\n",
    "\n",
    "fem_chem_rate = admission.query(\"gender == 'female' & major == 'Chemistry'\").count()/ \\\n",
    "    (admission.query(\"gender == 'female'\").count())\n",
    "\n",
    "print (fem_chem_rate)\n"
   ]
  },
  {
   "cell_type": "code",
   "execution_count": 105,
   "metadata": {},
   "outputs": [
    {
     "data": {
      "text/plain": [
       "0.07407407407407407"
      ]
     },
     "execution_count": 105,
     "metadata": {},
     "output_type": "execute_result"
    }
   ],
   "source": [
    "# What proportion of male students are majoring in chemistry?\n",
    "\n",
    "\n",
    "len(admission[\n",
    "    (admission[\"gender\"]==\"male\") & \\\n",
    "    (admission[\"major\"] == \"Chemistry\")]) \\\n",
    "/ len(admission[(admission[\"gender\"]==\"male\")])\n",
    "\n"
   ]
  },
  {
   "cell_type": "code",
   "execution_count": 106,
   "metadata": {},
   "outputs": [
    {
     "data": {
      "text/plain": [
       "0.22566371681415928"
      ]
     },
     "execution_count": 106,
     "metadata": {},
     "output_type": "execute_result"
    }
   ],
   "source": [
    "# Admission rate for female chemistry majors\n",
    "\n",
    "len(admission[\n",
    "    (admission[\"gender\"]==\"female\") & \\\n",
    "    (admission[\"major\"] == \"Chemistry\") & \\\n",
    "    (admission[\"admitted\"])]) \\\n",
    "/ len(admission[(admission[\"gender\"]==\"female\") & \\\n",
    "              (admission[\"major\"] == \"Chemistry\")])"
   ]
  },
  {
   "cell_type": "code",
   "execution_count": 107,
   "metadata": {},
   "outputs": [
    {
     "data": {
      "text/plain": [
       "0.1111111111111111"
      ]
     },
     "execution_count": 107,
     "metadata": {},
     "output_type": "execute_result"
    }
   ],
   "source": [
    "# Admission rate for male chemistry majors\n",
    "\n",
    "\n",
    "len(admission[\n",
    "    (admission[\"gender\"]==\"male\") & \\\n",
    "    (admission[\"major\"] == \"Chemistry\") & \\\n",
    "    (admission[\"admitted\"])]) \\\n",
    "/ len(admission[(admission[\"gender\"]==\"male\") & \\\n",
    "              (admission[\"major\"] == \"Chemistry\")])"
   ]
  },
  {
   "cell_type": "markdown",
   "metadata": {},
   "source": [
    "### Admission rate for each major"
   ]
  },
  {
   "cell_type": "code",
   "execution_count": 108,
   "metadata": {},
   "outputs": [
    {
     "data": {
      "text/plain": [
       "0.54296875"
      ]
     },
     "execution_count": 108,
     "metadata": {},
     "output_type": "execute_result"
    }
   ],
   "source": [
    "# Admission rate for physics majors\n",
    "\n",
    "len(admission[\n",
    "    (admission[\"major\"] == \"Physics\") & \\\n",
    "    (admission[\"admitted\"])]) \\\n",
    "/ len(admission[(admission[\"major\"] == \"Physics\")])"
   ]
  },
  {
   "cell_type": "code",
   "execution_count": 109,
   "metadata": {},
   "outputs": [
    {
     "data": {
      "text/plain": [
       "0.21721311475409835"
      ]
     },
     "execution_count": 109,
     "metadata": {},
     "output_type": "execute_result"
    }
   ],
   "source": [
    "# Admission rate for chemistry majors\n",
    "\n",
    "len(admission[\n",
    "    (admission[\"major\"] == \"Chemistry\") & \\\n",
    "    (admission[\"admitted\"])]) \\\n",
    "/ len(admission[(admission[\"major\"] == \"Chemistry\")])"
   ]
  },
  {
   "cell_type": "code",
   "execution_count": null,
   "metadata": {},
   "outputs": [],
   "source": []
  }
 ],
 "metadata": {
  "kernelspec": {
   "display_name": "Python 3",
   "language": "python",
   "name": "python3"
  },
  "language_info": {
   "codemirror_mode": {
    "name": "ipython",
    "version": 3
   },
   "file_extension": ".py",
   "mimetype": "text/x-python",
   "name": "python",
   "nbconvert_exporter": "python",
   "pygments_lexer": "ipython3",
   "version": "3.7.7"
  }
 },
 "nbformat": 4,
 "nbformat_minor": 2
}
